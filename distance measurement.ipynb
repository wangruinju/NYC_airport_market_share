{
 "cells": [
  {
   "cell_type": "code",
   "execution_count": 52,
   "metadata": {
    "collapsed": true
   },
   "outputs": [],
   "source": [
    "import numpy as np\n",
    "import pandas as pd\n",
    "%matplotlib inline\n",
    "import matplotlib\n",
    "import matplotlib.pyplot as plt"
   ]
  },
  {
   "cell_type": "markdown",
   "metadata": {},
   "source": [
    "# Unit Length"
   ]
  },
  {
   "cell_type": "markdown",
   "metadata": {
    "collapsed": true
   },
   "source": [
    "Apply the calculator in Ref[1], we can roughly get to know the approxiamte distance for one degree in terms of new york position."
   ]
  },
  {
   "cell_type": "code",
   "execution_count": 126,
   "metadata": {
    "collapsed": true
   },
   "outputs": [],
   "source": [
    "# km/degree as our unit\n",
    "unit_lat = 111.047\n",
    "unit_long = 31.194\n",
    "\n",
    "airports = [\"JFK\", \"Newark\", \"LaGuardia\"]\n",
    "# lat long area(km^2)\n",
    "airinfo = {\"JFK\" : [40.639722, -73.778889, 19.951],\n",
    "          \"Newark\": [40.6925, -74.168611, 0.275186],\n",
    "          \"LaGuardia\": [40.77725, -73.872611, 2.75186]}"
   ]
  },
  {
   "cell_type": "markdown",
   "metadata": {},
   "source": [
    "# Box Range for Taxi"
   ]
  },
  {
   "cell_type": "code",
   "execution_count": 127,
   "metadata": {},
   "outputs": [
    {
     "name": "stdout",
     "output_type": "stream",
     "text": [
      "JFK latitude range\n",
      "40.5994989032 40.6799450968\n",
      "JFK longitude range\n",
      "-73.922078531 -73.635699469\n",
      "Newark latitude range\n",
      "40.6877760386 40.6972239614\n",
      "Newark longitude range\n",
      "-74.1854277512 -74.1517942488\n",
      "LaGuardia latitude range\n",
      "40.7623115225 40.7921884775\n",
      "LaGuardia longitude range\n",
      "-73.9257902368 -73.8194317632\n"
     ]
    }
   ],
   "source": [
    "for name in airports:\n",
    "    # lat\n",
    "    delta_lat = np.sqrt(airinfo[name][2])/unit_lat\n",
    "    print(name, \"latitude range\")\n",
    "    print(airinfo[name][0]-delta_lat, airinfo[name][0]+delta_lat)\n",
    "    # long\n",
    "    delta_long = np.sqrt(airinfo[name][2])/unit_long\n",
    "    print(name, \"longitude range\")\n",
    "    print(airinfo[name][1]-delta_long, airinfo[name][1]+delta_long)"
   ]
  },
  {
   "cell_type": "markdown",
   "metadata": {},
   "source": [
    "# Estimation Data"
   ]
  },
  {
   "cell_type": "code",
   "execution_count": 128,
   "metadata": {
    "collapsed": true
   },
   "outputs": [],
   "source": [
    "df1 = pd.read_csv(\"JFK.csv\")\n",
    "df2 = pd.read_csv(\"Newark.csv\")\n",
    "df3 = pd.read_csv(\"LaGuardia.csv\")"
   ]
  },
  {
   "cell_type": "code",
   "execution_count": 130,
   "metadata": {},
   "outputs": [],
   "source": [
    "df1[\"airport\"] = \"JFK\"\n",
    "df2[\"airport\"] = \"Newark\"\n",
    "df3[\"airport\"] = \"LaGuardia\""
   ]
  },
  {
   "cell_type": "code",
   "execution_count": 159,
   "metadata": {},
   "outputs": [
    {
     "data": {
      "text/html": [
       "<div>\n",
       "<style>\n",
       "    .dataframe thead tr:only-child th {\n",
       "        text-align: right;\n",
       "    }\n",
       "\n",
       "    .dataframe thead th {\n",
       "        text-align: left;\n",
       "    }\n",
       "\n",
       "    .dataframe tbody tr th {\n",
       "        vertical-align: top;\n",
       "    }\n",
       "</style>\n",
       "<table border=\"1\" class=\"dataframe\">\n",
       "  <thead>\n",
       "    <tr style=\"text-align: right;\">\n",
       "      <th></th>\n",
       "      <th>year</th>\n",
       "      <th>cnt</th>\n",
       "      <th>platform</th>\n",
       "      <th>airport</th>\n",
       "    </tr>\n",
       "  </thead>\n",
       "  <tbody>\n",
       "    <tr>\n",
       "      <th>0</th>\n",
       "      <td>2009</td>\n",
       "      <td>5797987.0</td>\n",
       "      <td>yellow</td>\n",
       "      <td>JFK</td>\n",
       "    </tr>\n",
       "    <tr>\n",
       "      <th>1</th>\n",
       "      <td>2009</td>\n",
       "      <td>10341109.0</td>\n",
       "      <td>yellow</td>\n",
       "      <td>LaGuardia</td>\n",
       "    </tr>\n",
       "    <tr>\n",
       "      <th>2</th>\n",
       "      <td>2009</td>\n",
       "      <td>320166.0</td>\n",
       "      <td>yellow</td>\n",
       "      <td>Newark</td>\n",
       "    </tr>\n",
       "    <tr>\n",
       "      <th>3</th>\n",
       "      <td>2010</td>\n",
       "      <td>5896736.0</td>\n",
       "      <td>yellow</td>\n",
       "      <td>JFK</td>\n",
       "    </tr>\n",
       "    <tr>\n",
       "      <th>4</th>\n",
       "      <td>2010</td>\n",
       "      <td>10278304.0</td>\n",
       "      <td>yellow</td>\n",
       "      <td>LaGuardia</td>\n",
       "    </tr>\n",
       "  </tbody>\n",
       "</table>\n",
       "</div>"
      ],
      "text/plain": [
       "   year         cnt platform    airport\n",
       "0  2009   5797987.0   yellow        JFK\n",
       "1  2009  10341109.0   yellow  LaGuardia\n",
       "2  2009    320166.0   yellow     Newark\n",
       "3  2010   5896736.0   yellow        JFK\n",
       "4  2010  10278304.0   yellow  LaGuardia"
      ]
     },
     "execution_count": 159,
     "metadata": {},
     "output_type": "execute_result"
    }
   ],
   "source": [
    "df = pd.concat([df1, df2, df3]).sort_values([\"year\", \"airport\", \"platform\"]).reset_index(drop = True)\n",
    "df.to_csv(file_name, sep='\\t')\n",
    "df.head()"
   ]
  },
  {
   "cell_type": "code",
   "execution_count": 160,
   "metadata": {},
   "outputs": [
    {
     "data": {
      "text/html": [
       "<div>\n",
       "<style>\n",
       "    .dataframe thead tr:only-child th {\n",
       "        text-align: right;\n",
       "    }\n",
       "\n",
       "    .dataframe thead th {\n",
       "        text-align: left;\n",
       "    }\n",
       "\n",
       "    .dataframe tbody tr th {\n",
       "        vertical-align: top;\n",
       "    }\n",
       "</style>\n",
       "<table border=\"1\" class=\"dataframe\">\n",
       "  <thead>\n",
       "    <tr style=\"text-align: right;\">\n",
       "      <th></th>\n",
       "      <th>year</th>\n",
       "      <th>cnt</th>\n",
       "      <th>platform</th>\n",
       "      <th>airport</th>\n",
       "    </tr>\n",
       "  </thead>\n",
       "  <tbody>\n",
       "    <tr>\n",
       "      <th>0</th>\n",
       "      <td>2009</td>\n",
       "      <td>5797987.0</td>\n",
       "      <td>yellow</td>\n",
       "      <td>JFK</td>\n",
       "    </tr>\n",
       "    <tr>\n",
       "      <th>3</th>\n",
       "      <td>2010</td>\n",
       "      <td>5896736.0</td>\n",
       "      <td>yellow</td>\n",
       "      <td>JFK</td>\n",
       "    </tr>\n",
       "    <tr>\n",
       "      <th>6</th>\n",
       "      <td>2011</td>\n",
       "      <td>6578320.0</td>\n",
       "      <td>yellow</td>\n",
       "      <td>JFK</td>\n",
       "    </tr>\n",
       "    <tr>\n",
       "      <th>9</th>\n",
       "      <td>2012</td>\n",
       "      <td>7166065.0</td>\n",
       "      <td>yellow</td>\n",
       "      <td>JFK</td>\n",
       "    </tr>\n",
       "    <tr>\n",
       "      <th>12</th>\n",
       "      <td>2013</td>\n",
       "      <td>33204.0</td>\n",
       "      <td>green</td>\n",
       "      <td>JFK</td>\n",
       "    </tr>\n",
       "    <tr>\n",
       "      <th>13</th>\n",
       "      <td>2013</td>\n",
       "      <td>7485037.0</td>\n",
       "      <td>yellow</td>\n",
       "      <td>JFK</td>\n",
       "    </tr>\n",
       "    <tr>\n",
       "      <th>18</th>\n",
       "      <td>2014</td>\n",
       "      <td>489123.0</td>\n",
       "      <td>green</td>\n",
       "      <td>JFK</td>\n",
       "    </tr>\n",
       "    <tr>\n",
       "      <th>19</th>\n",
       "      <td>2014</td>\n",
       "      <td>7579101.0</td>\n",
       "      <td>yellow</td>\n",
       "      <td>JFK</td>\n",
       "    </tr>\n",
       "    <tr>\n",
       "      <th>24</th>\n",
       "      <td>2015</td>\n",
       "      <td>762931.0</td>\n",
       "      <td>fhv</td>\n",
       "      <td>JFK</td>\n",
       "    </tr>\n",
       "    <tr>\n",
       "      <th>25</th>\n",
       "      <td>2015</td>\n",
       "      <td>707701.0</td>\n",
       "      <td>green</td>\n",
       "      <td>JFK</td>\n",
       "    </tr>\n",
       "    <tr>\n",
       "      <th>26</th>\n",
       "      <td>2015</td>\n",
       "      <td>7787540.0</td>\n",
       "      <td>yellow</td>\n",
       "      <td>JFK</td>\n",
       "    </tr>\n",
       "    <tr>\n",
       "      <th>33</th>\n",
       "      <td>2016</td>\n",
       "      <td>1528986.0</td>\n",
       "      <td>fhv</td>\n",
       "      <td>JFK</td>\n",
       "    </tr>\n",
       "    <tr>\n",
       "      <th>34</th>\n",
       "      <td>2016</td>\n",
       "      <td>380826.0</td>\n",
       "      <td>green</td>\n",
       "      <td>JFK</td>\n",
       "    </tr>\n",
       "    <tr>\n",
       "      <th>35</th>\n",
       "      <td>2016</td>\n",
       "      <td>3690810.0</td>\n",
       "      <td>yellow</td>\n",
       "      <td>JFK</td>\n",
       "    </tr>\n",
       "  </tbody>\n",
       "</table>\n",
       "</div>"
      ],
      "text/plain": [
       "    year        cnt platform airport\n",
       "0   2009  5797987.0   yellow     JFK\n",
       "3   2010  5896736.0   yellow     JFK\n",
       "6   2011  6578320.0   yellow     JFK\n",
       "9   2012  7166065.0   yellow     JFK\n",
       "12  2013    33204.0    green     JFK\n",
       "13  2013  7485037.0   yellow     JFK\n",
       "18  2014   489123.0    green     JFK\n",
       "19  2014  7579101.0   yellow     JFK\n",
       "24  2015   762931.0      fhv     JFK\n",
       "25  2015   707701.0    green     JFK\n",
       "26  2015  7787540.0   yellow     JFK\n",
       "33  2016  1528986.0      fhv     JFK\n",
       "34  2016   380826.0    green     JFK\n",
       "35  2016  3690810.0   yellow     JFK"
      ]
     },
     "execution_count": 160,
     "metadata": {},
     "output_type": "execute_result"
    }
   ],
   "source": [
    "df.loc[df[\"airport\"] == \"JFK\"]"
   ]
  },
  {
   "cell_type": "markdown",
   "metadata": {},
   "source": [
    "# Market Share"
   ]
  },
  {
   "cell_type": "code",
   "execution_count": 189,
   "metadata": {},
   "outputs": [
    {
     "data": {
      "text/plain": [
       "<matplotlib.legend.Legend at 0x2729350f860>"
      ]
     },
     "execution_count": 189,
     "metadata": {},
     "output_type": "execute_result"
    },
    {
     "data": {
      "image/png": "[encoded data removed]",
      "text/plain": [
       "<matplotlib.figure.Figure at 0x272934ea390>"
      ]
     },
     "metadata": {},
     "output_type": "display_data"
    }
   ],
   "source": [
    "year_sum1 = df.groupby(['year', 'airport']).agg({'cnt': 'sum'})\n",
    "year_pcts1 = year_sum1.groupby(level=0).apply(lambda x:\n",
    "                                                 100 * x / float(x.sum()))\n",
    "year_pcts1.unstack().plot(kind = \"bar\").legend(bbox_to_anchor=(1.05, 0.8))"
   ]
  },
  {
   "cell_type": "markdown",
   "metadata": {},
   "source": [
    "# Taxi Market Share at Airport"
   ]
  },
  {
   "cell_type": "code",
   "execution_count": 182,
   "metadata": {},
   "outputs": [
    {
     "data": {
      "text/plain": [
       "<matplotlib.legend.Legend at 0x2728e7ae4a8>"
      ]
     },
     "execution_count": 182,
     "metadata": {},
     "output_type": "execute_result"
    },
    {
     "data": {
      "image/png": "[encoded data removed]",
      "text/plain": [
       "<matplotlib.figure.Figure at 0x27291957d30>"
      ]
     },
     "metadata": {},
     "output_type": "display_data"
    }
   ],
   "source": [
    "year_sum2 = df.groupby(['year', 'platform']).agg({'cnt': 'sum'})\n",
    "year_pcts2 = year_sum2.groupby(level=0).apply(lambda x:\n",
    "                                                 100 * x / float(x.sum()))\n",
    "year_pcts2.unstack().plot(kind = \"bar\", color=[\"lightblue\",\"darkgreen\",\"y\"]).legend(bbox_to_anchor=(1.05, 0.8))"
   ]
  },
  {
   "cell_type": "markdown",
   "metadata": {},
   "source": [
    "# Reference"
   ]
  },
  {
   "cell_type": "markdown",
   "metadata": {},
   "source": [
    "1. https://msi.nga.mil/MSISiteContent/StaticFiles/Calculators/degree.html"
   ]
  },
  {
   "cell_type": "code",
   "execution_count": null,
   "metadata": {
    "collapsed": true
   },
   "outputs": [],
   "source": []
  }
 ],
 "metadata": {
  "kernelspec": {
   "display_name": "Python 3",
   "language": "python",
   "name": "python3"
  },
  "language_info": {
   "codemirror_mode": {
    "name": "ipython",
    "version": 3
   },
   "file_extension": ".py",
   "mimetype": "text/x-python",
   "name": "python",
   "nbconvert_exporter": "python",
   "pygments_lexer": "ipython3",
   "version": "3.5.4"
  }
 },
 "nbformat": 4,
 "nbformat_minor": 2
}
